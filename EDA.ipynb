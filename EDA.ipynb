{
 "cells": [
  {
   "cell_type": "code",
   "execution_count": 1,
   "metadata": {},
   "outputs": [],
   "source": [
    "import spacy\n",
    "import pandas as pd\n",
    "\n",
    "\n"
   ]
  },
  {
   "cell_type": "code",
   "execution_count": 2,
   "metadata": {},
   "outputs": [],
   "source": [
    "nlp = spacy.load(\"en_core_web_sm\")\n",
    "fake = pd.read_csv(\"data/Fake.csv\", usecols= [\"text\"])"
   ]
  },
  {
   "cell_type": "code",
   "execution_count": 20,
   "metadata": {},
   "outputs": [
    {
     "name": "stdout",
     "output_type": "stream",
     "text": [
      "2893 621\n",
      "Donald\n",
      "Trump\n",
      "just\n",
      "couldn\n",
      "t\n",
      "wish\n",
      "all\n",
      "Americans\n",
      "a\n",
      "Happy\n",
      "New\n",
      "Year\n",
      "and\n",
      "leave\n",
      "it\n",
      "at\n",
      "that\n",
      ".\n",
      "Instead\n",
      ",\n",
      "he\n",
      "had\n",
      "to\n",
      "give\n",
      "a\n",
      "shout\n",
      "out\n",
      "to\n",
      "his\n",
      "enemies\n"
     ]
    }
   ],
   "source": [
    "text = fake['text'][0]\n",
    "\n",
    "doc = nlp(text)\n",
    "\n",
    "print(len(text), len(doc))\n",
    "\n",
    "\n",
    "for token in doc[:30]:\n",
    "    print(token)"
   ]
  },
  {
   "cell_type": "code",
   "execution_count": null,
   "metadata": {},
   "outputs": [],
   "source": []
  }
 ],
 "metadata": {
  "interpreter": {
   "hash": "8c4ea79c1a7284fa48037fd0778a218119e8be6c8dc0c499ebdccb12c3aa4e96"
  },
  "kernelspec": {
   "display_name": "Python 3.10.4 ('nlp')",
   "language": "python",
   "name": "python3"
  },
  "language_info": {
   "codemirror_mode": {
    "name": "ipython",
    "version": 3
   },
   "file_extension": ".py",
   "mimetype": "text/x-python",
   "name": "python",
   "nbconvert_exporter": "python",
   "pygments_lexer": "ipython3",
   "version": "3.10.4"
  },
  "orig_nbformat": 4
 },
 "nbformat": 4,
 "nbformat_minor": 2
}
